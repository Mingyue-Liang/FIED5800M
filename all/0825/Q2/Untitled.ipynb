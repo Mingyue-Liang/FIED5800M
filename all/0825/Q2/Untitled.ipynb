{
 "cells": [
  {
   "cell_type": "code",
   "execution_count": 1,
   "metadata": {},
   "outputs": [
    {
     "name": "stderr",
     "output_type": "stream",
     "text": [
      "D:\\360Downloads\\anaconda3\\lib\\site-packages\\nltk\\decorators.py:68: DeprecationWarning: `formatargspec` is deprecated since Python 3.5. Use `signature` and the `Signature` object directly\n",
      "  regargs, varargs, varkwargs, defaults, formatvalue=lambda value: \"\"\n",
      "D:\\360Downloads\\anaconda3\\lib\\site-packages\\nltk\\lm\\counter.py:15: DeprecationWarning: Using or importing the ABCs from 'collections' instead of from 'collections.abc' is deprecated since Python 3.3,and in 3.9 it will stop working\n",
      "  from collections import Sequence, defaultdict\n"
     ]
    }
   ],
   "source": [
    "import os\n",
    "import copy\n",
    "import time\n",
    "import traceback\n",
    "import pandas as pd\n",
    "import pyecharts.options as opts\n",
    "from pyecharts.charts import Line, Bar\n",
    "from cluster import Topic_dic\n",
    "\n",
    "PUBLISHERS = ['TheDailyTelegraph', 'TheNewYorkTimes', 'XinHua']\n",
    "\n",
    "Duration_dic = {\n",
    "    'TheDailyTelegraph' : [['2020-01-22', '2020-03-23', 'incubation'], ['2020-03-24', '2020-05-02', 'outbreak'],\n",
    "        ['2020-05-03', '2020-06-30', 'spread'], ['2020-07-01', '2020-07-23', '2nd outbreak']],\n",
    "    'TheNewYorkTimes' : [['2020-01-21', '2020-03-16', 'incubation'], ['2020-03-17', '2020-05-05', 'outbreak'],\n",
    "        ['2020-05-06', '2020-06-24', 'spread'], ['2020-06-25', '2020-07-23', '2nd outbreak']],\n",
    "    'XinHua' : [['2020-01-15', '2020-01-23', 'incubation'], ['2020-01-24', '2020-02-14', 'outbreak'],\n",
    "        ['2020-02-15', '2020-04-19', 'spread'], ['2020-04-20', '2020-07-27', 'recovery']]\n",
    "}\n",
    "\n",
    "topic_color_dic = {\n",
    "    'Health' : '#c23531',\n",
    "    'Politics' : '#2f4554',\n",
    "    'Economy' : 'orange',\n",
    "    'Others' : 'grey'\n",
    "}\n",
    "\n",
    "\n"
   ]
  },
  {
   "cell_type": "code",
   "execution_count": 2,
   "metadata": {},
   "outputs": [
    {
     "name": "stdout",
     "output_type": "stream",
     "text": [
      "Error:  name '__file__' is not defined\n"
     ]
    },
    {
     "name": "stderr",
     "output_type": "stream",
     "text": [
      "Traceback (most recent call last):\n",
      "  File \"<ipython-input-2-6c4b899e3660>\", line 3, in <module>\n",
      "    curpath = os.path.dirname(__file__)\n",
      "NameError: name '__file__' is not defined\n"
     ]
    }
   ],
   "source": [
    "if __name__ == \"__main__\":\n",
    "    try:\n",
    "        curpath = os.path.dirname(__file__)\n",
    "        for publisher in PUBLISHERS:\n",
    "            for type_name in ['national', 'international']:\n",
    "                path = os.path.join(curpath, publisher + '_topic_result.csv')\n",
    "                df = pd.read_csv(path)\n",
    "                df = df[df['type'] == type_name]\n",
    "                df.sort_values(by = 'publish_date', inplace = True)\n",
    "                print(\"%s - %s : %d items\" % (publisher, type_name, len(df)))\n",
    "\n",
    "                c = Line()\n",
    "                publish_date = list(df.publish_date.unique())\n",
    "                publish_date.sort()\n",
    "                c.add_xaxis(publish_date)\n",
    "\n",
    "                dic = Topic_dic[publisher]\n",
    "                for topic in dic.values():\n",
    "                    df_t = copy.deepcopy(df[df.topic == topic])\n",
    "                    df_date = df_t['publish_date'].value_counts().to_dict()\n",
    "                    y = [df_date[d] if d in df_date else 0 for d in publish_date]\n",
    "                    c.add_yaxis(\n",
    "                        topic,\n",
    "                        y,\n",
    "                        color = topic_color_dic[topic],\n",
    "                        linestyle_opts = opts.LineStyleOpts(width = 2),\n",
    "                        markpoint_opts = opts.MarkPointOpts(data = [opts.MarkPointItem(type_ = \"max\", name = \"最大值\")]),\n",
    "                        label_opts = opts.LabelOpts(is_show = False)\n",
    "                    )\n",
    "\n",
    "                c.set_global_opts(\n",
    "                    # title_opts = opts.TitleOpts(title = \"The sentiment development of %s\" % folder.split('_')[0]),\n",
    "                    xaxis_opts = opts.AxisOpts(axislabel_opts = opts.LabelOpts(rotate = 45), name=\"Date\"))\n",
    "                html_name = os.path.join(curpath, publisher + '_' + type_name + '_topic_LineChart.html')\n",
    "                c.render(html_name)\n",
    "\n",
    "                d_list = []\n",
    "                for index, row in df.iterrows():\n",
    "                    if publisher == 'TheNewYorkTimes': \n",
    "                        publish_date_stamp = time.mktime(time.strptime(row['publish_date'], \"%Y-%m-%d\"))\n",
    "                    else:\n",
    "                        publish_date_stamp = time.mktime(time.strptime(row['publish_date'], \"%Y/%m/%d\"))\n",
    "                    for item in Duration_dic[publisher]:\n",
    "                        start_date_stamp = time.mktime(time.strptime(item[0], \"%Y-%m-%d\"))\n",
    "                        end_date_stamp = time.mktime(time.strptime(item[1], \"%Y-%m-%d\"))\n",
    "                        if publish_date_stamp >= start_date_stamp and publish_date_stamp <= end_date_stamp:\n",
    "                            df.loc[index, 'duration'] = item[2]\n",
    "                            if item[2] not in d_list:\n",
    "                                d_list.append(item[2])\n",
    "                            break\n",
    "                b = Bar()\n",
    "                b.add_xaxis(d_list)\n",
    "                for value in Topic_dic[publisher].values():\n",
    "                    d_num = []\n",
    "                    for duration in d_list:\n",
    "                        t_df = df[(df['topic'] == value) & (df['duration'] == duration)]\n",
    "                        d_num.append(len(t_df))\n",
    "                    b.add_yaxis(\n",
    "                        value,\n",
    "                        d_num,\n",
    "                        itemstyle_opts = opts.ItemStyleOpts(color = topic_color_dic[value])\n",
    "                    )\n",
    "                    #  b.set_global_opts(\n",
    "                        # title_opts = opts.TitleOpts(title = \"The sentiment development of %s\" % folder.split('_')[0]),\n",
    "                        #  xaxis_opts = opts.AxisOpts(axislabel_opts = opts.LabelOpts(interval = 3, rotate = 45), name = \"Date\"))\n",
    "                    html_name = os.path.join(curpath, publisher + '_' + type_name + '_topic_BarChart.html')\n",
    "                    b.render(html_name)\n",
    "\n",
    "                csv_name = os.path.join(curpath, publisher + '_' + type_name + '_topic_duration_result.csv')\n",
    "                df.to_csv(csv_name, index = False, encoding = 'utf_8_sig')\n",
    "\n",
    "    except Exception as e:\n",
    "        print('Error: ', e)\n",
    "        traceback.print_exc()\n"
   ]
  },
  {
   "cell_type": "code",
   "execution_count": null,
   "metadata": {},
   "outputs": [],
   "source": []
  }
 ],
 "metadata": {
  "kernelspec": {
   "display_name": "Python 3",
   "language": "python",
   "name": "python3"
  },
  "language_info": {
   "codemirror_mode": {
    "name": "ipython",
    "version": 3
   },
   "file_extension": ".py",
   "mimetype": "text/x-python",
   "name": "python",
   "nbconvert_exporter": "python",
   "pygments_lexer": "ipython3",
   "version": "3.7.6"
  }
 },
 "nbformat": 4,
 "nbformat_minor": 4
}
